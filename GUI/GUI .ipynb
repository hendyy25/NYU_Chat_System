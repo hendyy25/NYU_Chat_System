{
 "cells": [
  {
   "cell_type": "code",
   "execution_count": 1,
   "id": "e5f49b3c",
   "metadata": {
    "ExecuteTime": {
     "end_time": "2022-04-23T23:10:46.828739Z",
     "start_time": "2022-04-23T23:10:43.981444Z"
    }
   },
   "outputs": [],
   "source": [
    "from tkinter import *\n",
    "\n",
    "# window, root widget \n",
    "\n",
    "root = Tk()\n",
    "\n",
    "# create anything, define it, then show it\n",
    "\n",
    "my_label = Label(root, text= 'Hello me!') # create \n",
    "my_label.pack() # show \n",
    "\n",
    "root.mainloop() # break the loop when you click the x button\n",
    "\n",
    "##### first program done!"
   ]
  },
  {
   "cell_type": "code",
   "execution_count": 3,
   "id": "d9478a18",
   "metadata": {
    "ExecuteTime": {
     "end_time": "2022-04-23T23:11:12.469844Z",
     "start_time": "2022-04-23T23:11:03.250579Z"
    }
   },
   "outputs": [],
   "source": [
    "root = Tk()\n",
    "\n",
    "\n",
    "my_label1 = Label(root, text= 'Hello!')\n",
    "my_label2 = Label(root, text= 'Hi!')\n",
    "\n",
    "# using grid\n",
    "my_label1.grid(row= 0, column = 0)\n",
    "my_label2.grid(row= 1, column = 0)\n",
    "\n",
    "# same as:\n",
    "# my_label1 = Label(root, text= 'Hello!').grid(row= 0, column = 0)\n",
    "# my_label2 = Label(root, text= 'Hi!').grid(row= 1, column = 0)\n",
    "\n",
    "root.mainloop() "
   ]
  },
  {
   "cell_type": "code",
   "execution_count": 4,
   "id": "f2076577",
   "metadata": {
    "ExecuteTime": {
     "end_time": "2022-04-23T23:14:19.928022Z",
     "start_time": "2022-04-23T23:14:13.110066Z"
    }
   },
   "outputs": [],
   "source": [
    "# buttons \n",
    "root = Tk()\n",
    "\n",
    "my_button = Button(root, text = 'Click me', padx = 20, pady =10) # control the size on the x and y axis, can add \"state\" to make the button disabled\n",
    "my_button.pack()\n",
    "\n",
    "root.mainloop()"
   ]
  },
  {
   "cell_type": "code",
   "execution_count": 19,
   "id": "d0b3f97d",
   "metadata": {
    "ExecuteTime": {
     "end_time": "2022-04-23T23:22:50.446536Z",
     "start_time": "2022-04-23T23:22:48.465204Z"
    }
   },
   "outputs": [],
   "source": [
    "# buttons \n",
    "root = Tk()\n",
    "\n",
    "def clicked():\n",
    "    label = Label(root, text = 'i clicked the button')\n",
    "    label.pack()\n",
    "    \n",
    "my_button = Button(root, text = 'Click me',command = clicked, fg = \"red\", bg = \"blue\") # no () after the function's name, fg, forground color, bg, background color\n",
    "my_button.pack()\n",
    "\n",
    "root.mainloop()"
   ]
  },
  {
   "cell_type": "code",
   "execution_count": 25,
   "id": "40fe073a",
   "metadata": {
    "ExecuteTime": {
     "end_time": "2022-04-23T23:25:08.576461Z",
     "start_time": "2022-04-23T23:25:05.137590Z"
    }
   },
   "outputs": [],
   "source": [
    "# input boxes \n",
    "\n",
    "root = Tk()\n",
    "e = Entry(root, width = 50, bg= 'yellow',fg = \"blue\")\n",
    "e.pack()\n",
    "\n",
    "root.mainloop()"
   ]
  },
  {
   "cell_type": "code",
   "execution_count": 28,
   "id": "49ac3674",
   "metadata": {
    "ExecuteTime": {
     "end_time": "2022-04-23T23:29:41.145867Z",
     "start_time": "2022-04-23T23:29:35.007187Z"
    }
   },
   "outputs": [],
   "source": [
    "# buttons \n",
    "root = Tk()\n",
    "\n",
    "e = Entry(root, width = 50, bg= 'yellow',fg = \"blue\")\n",
    "e.pack()\n",
    "e.insert(0, 'Enter your name') # default text\n",
    "def clicked():\n",
    "    label = Label(root, text = \"Hello \" + e.get())\n",
    "    label.pack()\n",
    "    \n",
    "my_button = Button(root, text = 'Click me',command = clicked, fg = \"red\", bg = \"blue\") # no () after the function's name, fg, forground color, bg, background color\n",
    "my_button.pack()\n",
    "\n",
    "root.mainloop()"
   ]
  },
  {
   "cell_type": "code",
   "execution_count": 37,
   "id": "a00f7848",
   "metadata": {
    "ExecuteTime": {
     "end_time": "2022-04-27T15:31:34.783792Z",
     "start_time": "2022-04-27T15:31:33.610869Z"
    }
   },
   "outputs": [],
   "source": [
    "# simple calculator \n",
    "root = Tk()\n",
    "\n",
    "e = Entry(root, width = 35, borderwidth= 5)\n",
    "e.grid(row= 0, column = 0, columnspan = 3 , padx = 10, pady = 10)\n",
    "\n",
    "\n",
    "# define our functions\n",
    "def button_click(number):\n",
    "    # e.delete(0, END)\n",
    "    current = e.get()\n",
    "    e.delete(0, END) # delete everything\n",
    "    e.insert(0, str(current)+ str(number))\n",
    "\n",
    "def button_clear():\n",
    "    e.delete(0, END)\n",
    "\n",
    "def button_add():\n",
    "    global first_number, math\n",
    "    math = 'add'\n",
    "    first_number = e.get()\n",
    "    e.delete(0,END)\n",
    "\n",
    "def button_equall():\n",
    "    second_number = e.get()\n",
    "    e.delete(0, END)\n",
    "    \n",
    "    if math == 'add':\n",
    "     e.insert(0, int(first_number)+ int(second_number))\n",
    "    if math == 'sub':\n",
    "     e.insert(0, int(first_number)-int(second_number))\n",
    "    if math == 'multiply':\n",
    "     e.insert(0, int(first_number)* int(second_number))\n",
    "    if math == 'divide':\n",
    "     e.insert(0, int(first_number)/ int(second_number))\n",
    "def button_subtract():\n",
    "    global first_number\n",
    "    global math \n",
    "    math = 'sub'\n",
    "    first_number = e.get()\n",
    "    e.delete(0,END) \n",
    "\n",
    "\n",
    "def button_multiply():\n",
    "    global first_number\n",
    "    global math \n",
    "    math = 'multiply'\n",
    "    first_number = e.get()\n",
    "    e.delete(0,END) \n",
    "\n",
    "\n",
    "def button_divide():\n",
    "    global first_number\n",
    "    global math \n",
    "    math = 'divide'\n",
    "    first_number = e.get()\n",
    "    e.delete(0,END) \n",
    "# define buttons\n",
    "\n",
    "button_0 = Button(root, text = \"0\", padx =40, pady = 20, command = lambda: button_click(0))\n",
    "button_1 = Button(root, text = \"1\", padx =40, pady = 20, command = lambda: button_click(1))\n",
    "button_2 = Button(root, text = \"2\", padx =40, pady = 20, command = lambda: button_click(2))\n",
    "button_3 = Button(root, text = \"3\", padx =40, pady = 20, command = lambda: button_click(3))\n",
    "button_4 = Button(root, text = \"4\", padx =40, pady = 20, command = lambda: button_click(4))\n",
    "button_5 = Button(root, text = \"5\", padx =40, pady = 20, command = lambda: button_click(5))\n",
    "button_6 = Button(root, text = \"6\", padx =40, pady = 20, command = lambda: button_click(6))\n",
    "button_7 = Button(root, text = \"7\", padx =40, pady = 20, command = lambda: button_click(7))\n",
    "button_8 = Button(root, text = \"8\", padx =40, pady = 20, command = lambda: button_click(8))\n",
    "button_9 = Button(root, text = \"9\", padx =40, pady = 20, command = lambda: button_click(9))\n",
    "button_add = Button(root, text = \"+\", padx =39, pady = 20, command = button_add)\n",
    "button_equall = Button(root, text = \"=\", padx =91, pady = 20, command = button_equall)\n",
    "button_clear = Button(root, text = \"clear\", padx =79, pady = 20, command = button_clear)\n",
    "\n",
    "button_sub = Button(root, text = \"-\", padx =39, pady = 20, command = button_subtract)\n",
    "button_mul= Button(root, text = \"*\", padx =31, pady = 20, command = button_multiply)\n",
    "button_div = Button(root, text = \"/\", padx =31, pady = 20, command = button_divide)\n",
    "\n",
    "# display buttons \n",
    "\n",
    "button_1.grid(row = 3, column = 0)\n",
    "button_2.grid(row = 3, column = 1)\n",
    "button_3.grid(row = 3, column = 2)\n",
    "\n",
    "button_4.grid(row = 2 , column = 0 )\n",
    "button_5.grid(row = 2, column = 1)\n",
    "button_6.grid(row = 2, column = 2)\n",
    "\n",
    "button_7.grid(row = 1, column = 0 )\n",
    "button_8.grid(row = 1, column = 1)\n",
    "button_9.grid(row = 1, column = 2)\n",
    "\n",
    "button_0.grid(row = 4, column = 0)\n",
    "\n",
    "\n",
    "button_add.grid(row = 5, column = 0)\n",
    "button_equall.grid(row = 5, column = 1, columnspan = 2)\n",
    "button_clear.grid(row = 4, column = 1, columnspan = 2)\n",
    "\n",
    "button_sub.grid(row = 6, column = 0)\n",
    "button_mul.grid(row = 6, column = 1)\n",
    "button_div.grid(row = 6, column = 2)\n",
    "\n",
    "\n",
    "\n",
    "root.mainloop()"
   ]
  },
  {
   "cell_type": "code",
   "execution_count": 10,
   "id": "3a482412",
   "metadata": {
    "ExecuteTime": {
     "end_time": "2022-04-27T14:59:55.366851Z",
     "start_time": "2022-04-27T14:59:52.337019Z"
    }
   },
   "outputs": [],
   "source": [
    "# Using Icons, images, and exit buttons \n",
    "from tkinter import *\n",
    "from PIL import ImageTk, Image # lib for image manipulation\n",
    "\n",
    "root = Tk()\n",
    "root.title('Lear to code')\n",
    "root.iconbitmap(\"g.ico\") # from downloads\n",
    "\n",
    "my_img = ImageTk.PhotoImage(Image.open(\"y.png\"))\n",
    "my_label = Label(image= my_img)\n",
    "my_label.pack()\n",
    "\n",
    "\n",
    "\n",
    "button_quit = Button(root, text = 'Click here to quit', command = root.quit)\n",
    "button_quit.pack()\n",
    "\n",
    "\n",
    "root.mainloop()"
   ]
  },
  {
   "cell_type": "code",
   "execution_count": 13,
   "id": "995117f4",
   "metadata": {
    "ExecuteTime": {
     "end_time": "2022-04-27T15:08:39.301276Z",
     "start_time": "2022-04-27T15:08:31.947268Z"
    }
   },
   "outputs": [],
   "source": [
    "# creating an image viewer \n",
    "from tkinter import *\n",
    "from PIL import ImageTk, Image\n",
    "\n",
    "root= Tk()\n",
    "\n",
    "root.title('my images')\n",
    "root.iconbitmap('g.ico')\n",
    "\n",
    "# assign image variables\n",
    "img_1 = ImageTk.PhotoImage(Image.open(\"x.png\"))\n",
    "img_2 = ImageTk.PhotoImage(Image.open(\"y.png\"))\n",
    "\n",
    "image_list = [img_1, img_2]\n",
    "\n",
    "# displaying \n",
    "my_label = Label(image = img_1)\n",
    "my_label.grid(row=0,column=0,columnspan=3)\n",
    "\n",
    "def forward(image_number):\n",
    "    global my_label\n",
    "    global forward_button\n",
    "    global back_button \n",
    "    \n",
    "    my_label.grid_forget()\n",
    "    my_label = Label(image = image_list[image_number-1])\n",
    "    \n",
    "    forward_button = Button(root, text = '>>', command = lambda:forward(image_number+1))\n",
    "    back_button = Button(root, text = '<<', command = lambda:back(image_number-1))\n",
    "    \n",
    "    if image_number == len(image_list):\n",
    "        forward_button = Button(root, text = '>>', state = DISABLED)\n",
    "    my_label.grid(row=0,column=0,columnspan=3)\n",
    "    back_button.grid(row =1, column = 0)\n",
    "    forward_button.grid(row =1, column = 2)\n",
    "    \n",
    "    \n",
    "        \n",
    "    \n",
    "\n",
    "def back(image_number):\n",
    "    global my_label, forward_button, back_button \n",
    "    my_label.grid_forget()\n",
    "    my_label = Label(image = image_list[image_number-1])\n",
    "    \n",
    "    forward_button = Button(root, text = '>>', command = lambda:forward(image_number+1))\n",
    "    back_button = Button(root, text = '<<', command = lambda:back(image_number-1))\n",
    "    \n",
    "    if image_number == 1:\n",
    "        back_button = Button(root, text = '>>', state = DISABLED)\n",
    "        \n",
    "    my_label.grid(row=0,column=0,columnspan=3)\n",
    "    back_button.grid(row =1, column = 0)\n",
    "    forward_button.grid(row =1, column = 2)\n",
    "    \n",
    "\n",
    "back_button = Button(root, text = '<<', command = back, state= DISABLED)##\n",
    "exit_button = Button(root, text='Exit Program', command = root.quit)\n",
    "forward_button = Button(root, text = '>>', command = lambda:forward(2))\n",
    "\n",
    "back_button.grid(row =1, column = 0)\n",
    "exit_button.grid(row =1, column = 1)\n",
    "forward_button.grid(row =1, column = 2)\n",
    "\n",
    "root.mainloop()"
   ]
  },
  {
   "cell_type": "code",
   "execution_count": 29,
   "id": "f7642743",
   "metadata": {
    "ExecuteTime": {
     "end_time": "2022-04-27T15:15:54.234976Z",
     "start_time": "2022-04-27T15:15:50.841938Z"
    }
   },
   "outputs": [],
   "source": [
    "# adding a status bar\n",
    "\n",
    "# creating an image viewer \n",
    "from tkinter import *\n",
    "from PIL import ImageTk, Image\n",
    "\n",
    "root= Tk()\n",
    "\n",
    "root.title('my images')\n",
    "root.iconbitmap('g.ico')\n",
    "\n",
    "# assign image variables\n",
    "img_1 = ImageTk.PhotoImage(Image.open(\"x.png\"))\n",
    "img_2 = ImageTk.PhotoImage(Image.open(\"y.png\"))\n",
    "\n",
    "image_list = [img_1, img_2]\n",
    "status = Label(root, text = 'Image 1 out of '+str(len(image_list)), bd = 1, relief = SUNKEN, anchor =E)\n",
    "# displaying \n",
    "my_label = Label(image = img_1)\n",
    "my_label.grid(row=0,column=0,columnspan=3)\n",
    "\n",
    "def forward(image_number):\n",
    "    global my_label\n",
    "    global forward_button\n",
    "    global back_button \n",
    "    \n",
    "    my_label.grid_forget()\n",
    "    my_label = Label(image = image_list[image_number-1])\n",
    "    \n",
    "    forward_button = Button(root, text = '>>', command = lambda:forward(image_number+1))\n",
    "    back_button = Button(root, text = '<<', command = lambda:back(image_number-1))\n",
    "    \n",
    "    if image_number == len(image_list):\n",
    "        forward_button = Button(root, text = '>>', state = DISABLED)\n",
    "        \n",
    "    my_label.grid(row=0,column=0,columnspan=3)\n",
    "    back_button.grid(row =1, column = 0)\n",
    "    forward_button.grid(row =1, column = 2)\n",
    "    \n",
    "    status = Label(root, text = 'Image' + str(image_number)+' out of '+str(len(image_list)), bd = 1, relief = SUNKEN, anchor =E)\n",
    "    status.grid(row = 2,column = 0,columnspan=3, sticky=W+E)\n",
    "    \n",
    "    \n",
    "    \n",
    "        \n",
    "    \n",
    "\n",
    "def back(image_number):\n",
    "    global my_label, forward_button, back_button \n",
    "    my_label.grid_forget()\n",
    "    my_label = Label(image = image_list[image_number-1])\n",
    "    \n",
    "    forward_button = Button(root, text = '>>', command = lambda:forward(image_number+1))\n",
    "    back_button = Button(root, text = '<<', command = lambda:back(image_number-1))\n",
    "    \n",
    "    if image_number == 1:\n",
    "        back_button = Button(root, text = '>>', state = DISABLED)\n",
    "        \n",
    "    my_label.grid(row=0,column=0,columnspan=3)\n",
    "    back_button.grid(row =1, column = 0)\n",
    "    forward_button.grid(row =1, column = 2)\n",
    "    \n",
    "    status = Label(root, text = 'Image' + str(image_number)+' out of '+str(len(image_list)), bd = 1, relief = SUNKEN, anchor =E)\n",
    "    status.grid(row = 2,column = 0,columnspan=3, sticky=W+E)\n",
    "\n",
    "back_button = Button(root, text = '<<', command = back, state= DISABLED)##\n",
    "exit_button = Button(root, text='Exit Program', command = root.quit)\n",
    "forward_button = Button(root, text = '>>', command = lambda:forward(2))\n",
    "\n",
    "back_button.grid(row =1, column = 0)\n",
    "exit_button.grid(row =1, column = 1)\n",
    "forward_button.grid(row =1, column = 2)\n",
    "status.grid(row = 2,column = 0,columnspan=3, sticky=W+E)\n",
    "\n",
    "# the above 4 lines run in the first place. when forward or back is clicked, you go to the function and implement from there\n",
    "root.mainloop()"
   ]
  },
  {
   "cell_type": "code",
   "execution_count": 33,
   "id": "b3a8ca0f",
   "metadata": {
    "ExecuteTime": {
     "end_time": "2022-04-27T15:31:28.988244Z",
     "start_time": "2022-04-27T15:26:03.450431Z"
    }
   },
   "outputs": [],
   "source": [
    "# create frames, organize section of screens\n",
    "from tkinter import *\n",
    "from PIL import ImageTk, Image \n",
    "\n",
    "root = Tk()\n",
    "frame = LabelFrame(root, text = 'thisis my frame', padx= 5, pady =5)\n",
    "frame.pack(padx=10,pady=10)\n",
    "\n",
    "button = Button(frame, text = 'click here')\n",
    "button.grid(row = 0, column=0)\n",
    "\n",
    "\n",
    "root.mainloop()"
   ]
  },
  {
   "cell_type": "code",
   "execution_count": 41,
   "id": "b25bb01b",
   "metadata": {
    "ExecuteTime": {
     "end_time": "2022-04-27T15:40:44.375706Z",
     "start_time": "2022-04-27T15:40:42.146869Z"
    }
   },
   "outputs": [],
   "source": [
    "# Radio Buttons \n",
    "from tkinter import *\n",
    "from PIL import ImageTk, Image \n",
    "\n",
    "root = Tk()\n",
    "\n",
    "r= IntVar()\n",
    "r.set(1) # option 1 by default\n",
    "Radiobutton(root, text = 'option 1', variable = r, value =1).pack()\n",
    "Radiobutton(root, text = 'option 2', variable = r, value =2).pack()\n",
    "\n",
    "\n",
    "\n",
    "root.mainloop()"
   ]
  },
  {
   "cell_type": "code",
   "execution_count": 48,
   "id": "8774e27d",
   "metadata": {
    "ExecuteTime": {
     "end_time": "2022-04-27T15:54:16.024238Z",
     "start_time": "2022-04-27T15:54:10.131638Z"
    }
   },
   "outputs": [],
   "source": [
    "# message boxes \n",
    "from tkinter import *\n",
    "from PIL import ImageTk, Image \n",
    "from tkinter import messagebox\n",
    "\n",
    "root = Tk()\n",
    "# types of popups: showinfo, showwarning, showerror, askquestion, askokcancel, askyesno\n",
    "def popup():\n",
    "    messagebox.showwarning('This is my popup message!','you did smh wrong!!!')\n",
    "Button(root, text = 'popup', command = popup).pack()\n",
    "\n",
    "root.mainloop()"
   ]
  },
  {
   "cell_type": "code",
   "execution_count": 51,
   "id": "b0dbeea8",
   "metadata": {
    "ExecuteTime": {
     "end_time": "2022-04-27T15:56:47.895062Z",
     "start_time": "2022-04-27T15:56:45.012413Z"
    }
   },
   "outputs": [],
   "source": [
    "# new windows\n",
    "from tkinter import *\n",
    "from PIL import ImageTk, Image \n",
    "from tkinter import messagebox\n",
    "\n",
    "root = Tk()\n",
    "\n",
    "top = Toplevel()\n",
    "top.title('S econd Windowz title')\n",
    "Label(top, text = 'this is the second window').pack()\n",
    "root.mainloop()"
   ]
  },
  {
   "cell_type": "code",
   "execution_count": 65,
   "id": "c8d3bb0e",
   "metadata": {
    "ExecuteTime": {
     "end_time": "2022-04-27T16:06:03.430153Z",
     "start_time": "2022-04-27T16:06:00.499743Z"
    }
   },
   "outputs": [],
   "source": [
    "# new windows 2\n",
    "from tkinter import *\n",
    "from PIL import ImageTk, Image \n",
    "from tkinter import messagebox\n",
    "\n",
    "root = Tk()\n",
    "\n",
    "def open():\n",
    "    global img # must be global \n",
    "    top = Toplevel()\n",
    "    top.title('Second windowz title')\n",
    "    img = ImageTk.PhotoImage(Image.open(\"x.png\"))\n",
    "    Label(top, image = img).pack()\n",
    "    Button(top, text = 'close this second window', command = top.destroy).pack()\n",
    "\n",
    "Button(root, text = 'Open a second widnwo', command = open).pack()\n",
    "root.mainloop()"
   ]
  },
  {
   "cell_type": "code",
   "execution_count": 73,
   "id": "8cd9b0c6",
   "metadata": {
    "ExecuteTime": {
     "end_time": "2022-04-27T16:20:43.282739Z",
     "start_time": "2022-04-27T16:20:34.784075Z"
    }
   },
   "outputs": [],
   "source": [
    "# open files\n",
    "from tkinter import *\n",
    "from PIL import ImageTk, Image \n",
    "from tkinter import messagebox\n",
    "from tkinter import filedialog \n",
    "\n",
    "root = Tk()\n",
    "\n",
    "def openfile():\n",
    "    root.filename = filedialog.askopenfilename(initialdir = '/UP3',title = 'Open your file', filetypes = [(\"all files\",\"*.*\")])\n",
    "    # the above line returns the location of the file\n",
    "    # read the .csv and manipulate it\n",
    "Button(root, text='open file', command = openfile).pack()\n",
    "\n",
    "\n",
    "root.mainloop()"
   ]
  },
  {
   "cell_type": "code",
   "execution_count": 82,
   "id": "a955f7ef",
   "metadata": {
    "ExecuteTime": {
     "end_time": "2022-04-27T17:22:20.646433Z",
     "start_time": "2022-04-27T17:22:03.479450Z"
    }
   },
   "outputs": [],
   "source": [
    "# sliders \n",
    "from tkinter import *\n",
    "from PIL import ImageTk, Image \n",
    "from tkinter import messagebox\n",
    "from tkinter import filedialog \n",
    "\n",
    "root = Tk()\n",
    "root.geometry(\"500x500\") # controlling the size of the main window\n",
    "\n",
    "vertical = Scale(root, from_ = 0 , to =200)\n",
    "vertical.pack()\n",
    "\n",
    "horizontal = Scale(root,from_ = 0, to = 400, orient = HORIZONTAL)\n",
    "horizontal.pack()\n",
    "\n",
    "Label(root, text = horizontal.get()).pack()\n",
    "\n",
    "# changing the dimensinos of the whole window accordingly\n",
    "def slide():\n",
    "    Label(root, text = horizontal.get()).pack()\n",
    "    root.geometry(str(horizontal.get())+\"x\"+str(vertical.get()))\n",
    "\n",
    "Button(root, text = 'change the dimensions', command = slide).pack()\n",
    "\n",
    "\n",
    "root.mainloop()"
   ]
  },
  {
   "cell_type": "code",
   "execution_count": null,
   "id": "23f6315e",
   "metadata": {},
   "outputs": [],
   "source": []
  }
 ],
 "metadata": {
  "kernelspec": {
   "display_name": "Python 3",
   "language": "python",
   "name": "python3"
  },
  "language_info": {
   "codemirror_mode": {
    "name": "ipython",
    "version": 3
   },
   "file_extension": ".py",
   "mimetype": "text/x-python",
   "name": "python",
   "nbconvert_exporter": "python",
   "pygments_lexer": "ipython3",
   "version": "3.8.8"
  },
  "toc": {
   "base_numbering": 1,
   "nav_menu": {},
   "number_sections": true,
   "sideBar": true,
   "skip_h1_title": false,
   "title_cell": "Table of Contents",
   "title_sidebar": "Contents",
   "toc_cell": false,
   "toc_position": {},
   "toc_section_display": true,
   "toc_window_display": false
  },
  "varInspector": {
   "cols": {
    "lenName": 16,
    "lenType": 16,
    "lenVar": 40
   },
   "kernels_config": {
    "python": {
     "delete_cmd_postfix": "",
     "delete_cmd_prefix": "del ",
     "library": "var_list.py",
     "varRefreshCmd": "print(var_dic_list())"
    },
    "r": {
     "delete_cmd_postfix": ") ",
     "delete_cmd_prefix": "rm(",
     "library": "var_list.r",
     "varRefreshCmd": "cat(var_dic_list()) "
    }
   },
   "types_to_exclude": [
    "module",
    "function",
    "builtin_function_or_method",
    "instance",
    "_Feature"
   ],
   "window_display": false
  }
 },
 "nbformat": 4,
 "nbformat_minor": 5
}
