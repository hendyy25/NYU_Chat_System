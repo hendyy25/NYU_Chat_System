{
 "cells": [
  {
   "cell_type": "code",
   "execution_count": 1,
   "id": "99211a0c",
   "metadata": {
    "ExecuteTime": {
     "end_time": "2022-04-29T15:01:12.741233Z",
     "start_time": "2022-04-29T15:01:12.349216Z"
    }
   },
   "outputs": [],
   "source": [
    "from tkinter import *\n",
    "from PIL import ImageTk, Image \n",
    "from tkinter import messagebox\n",
    "from tkinter import filedialog \n",
    "import cv2 as cv "
   ]
  },
  {
   "cell_type": "code",
   "execution_count": null,
   "id": "c36f7efa",
   "metadata": {
    "ExecuteTime": {
     "start_time": "2022-04-29T15:02:35.411Z"
    }
   },
   "outputs": [
    {
     "name": "stderr",
     "output_type": "stream",
     "text": [
      "Exception in Tkinter callback\n",
      "Traceback (most recent call last):\n",
      "  File \"/Users/hendy/opt/anaconda3/lib/python3.8/tkinter/__init__.py\", line 1892, in __call__\n",
      "    return self.func(*args)\n",
      "  File \"<ipython-input-3-5dff05d93168>\", line 14, in choose_file\n",
      "    faces_rect = haar_cascade.detectMultiScale(gray, scaleFactor=1.9, minNeighbors=1)\n",
      "cv2.error: OpenCV(4.5.5) /Users/runner/work/opencv-python/opencv-python/opencv/modules/objdetect/src/cascadedetect.cpp:1689: error: (-215:Assertion failed) !empty() in function 'detectMultiScale'\n",
      "\n"
     ]
    }
   ],
   "source": [
    "class Vision:\n",
    "    def __init__(self,root):\n",
    "        self.root = root\n",
    "        self.photo_button = Button(self.root, text = 'File to be visioned', command = self.choose_file)\n",
    "        self.number_of_images= None\n",
    "    \n",
    "    def choose_file(self):\n",
    "        self.root.filename = filedialog.askopenfilename(title = 'Open your file', filetypes = [(\"jpg files\",\"*.jpg\")]) # to guarantee that the file's type is an image\n",
    "        img_name = self.root.filename\n",
    "        \n",
    "        img = cv.imread(img_name)\n",
    "        haar_cascade = cv.CascadeClassifier('haar_face.xml')\n",
    "        gray = cv.cvtColor(img, cv.COLOR_BGR2GRAY)\n",
    "        faces_rect = haar_cascade.detectMultiScale(gray, scaleFactor=1.9, minNeighbors=1)\n",
    "        \n",
    "        # 1.1 and 1 in the above code are conventional values\n",
    "\n",
    "        for (x,y,w,h) in faces_rect:\n",
    "            cv.rectangle(img, (x,y), (x+w,y+h), (0,255,0), thickness=2)\n",
    "\n",
    "        #plt.imshow(img , cmap=\"gray\")\n",
    "        cv.imshow('Detected Faces', img)\n",
    "        number_of_images = 'Number of faces found = ' + str(len(faces_rect))\n",
    "        Label(self.root, text=number_of_images).grid(row=2,column=1)\n",
    "        print(self.number_of_images)\n",
    "        cv.waitKey(0)\n",
    "        cv.destroyAllWindows()\n",
    "        cv.waitKey(1)  \n",
    "\n",
    "        \n",
    "\n",
    "root = Tk()\n",
    "root.geometry(\"700x430\")\n",
    "root.title('Computer Vision Interface')\n",
    "root.iconbitmap('icon.jpg')\n",
    "app = Vision(root)\n",
    "\n",
    "computer_vision_img = ImageTk.PhotoImage(Image.open(\"/Users/hendy/Desktop/AI/AI_files/opencv-course/Section #3 - Faces/imgreco.png\"))\n",
    "computer_vision_label = Label( image = computer_vision_img).grid(row=0,column=0,columnspan=3)\n",
    "app.photo_button.grid(row=1,column=1)\n",
    "\n",
    "\n",
    "# complete machine learning\n",
    "machinle_learning_img = ImageTk.PhotoImage(Image.open(\"/Users/hendy/Desktop/AI/AI_files/opencv-course/Section #3 - Faces/machine.jpg\"))\n",
    "\n",
    "\n",
    "\n",
    "\n",
    "\n",
    "\n",
    "\n",
    "root.mainloop()\n",
    "        "
   ]
  },
  {
   "cell_type": "code",
   "execution_count": null,
   "id": "44df20a5",
   "metadata": {},
   "outputs": [],
   "source": []
  }
 ],
 "metadata": {
  "kernelspec": {
   "display_name": "Python 3",
   "language": "python",
   "name": "python3"
  },
  "language_info": {
   "codemirror_mode": {
    "name": "ipython",
    "version": 3
   },
   "file_extension": ".py",
   "mimetype": "text/x-python",
   "name": "python",
   "nbconvert_exporter": "python",
   "pygments_lexer": "ipython3",
   "version": "3.8.8"
  },
  "toc": {
   "base_numbering": 1,
   "nav_menu": {},
   "number_sections": true,
   "sideBar": true,
   "skip_h1_title": false,
   "title_cell": "Table of Contents",
   "title_sidebar": "Contents",
   "toc_cell": false,
   "toc_position": {},
   "toc_section_display": true,
   "toc_window_display": false
  },
  "varInspector": {
   "cols": {
    "lenName": 16,
    "lenType": 16,
    "lenVar": 40
   },
   "kernels_config": {
    "python": {
     "delete_cmd_postfix": "",
     "delete_cmd_prefix": "del ",
     "library": "var_list.py",
     "varRefreshCmd": "print(var_dic_list())"
    },
    "r": {
     "delete_cmd_postfix": ") ",
     "delete_cmd_prefix": "rm(",
     "library": "var_list.r",
     "varRefreshCmd": "cat(var_dic_list()) "
    }
   },
   "types_to_exclude": [
    "module",
    "function",
    "builtin_function_or_method",
    "instance",
    "_Feature"
   ],
   "window_display": false
  }
 },
 "nbformat": 4,
 "nbformat_minor": 5
}
