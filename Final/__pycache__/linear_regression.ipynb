{
 "cells": [
  {
   "cell_type": "code",
   "execution_count": 2,
   "id": "7180ae8b",
   "metadata": {
    "ExecuteTime": {
     "end_time": "2022-05-06T07:49:16.813407Z",
     "start_time": "2022-05-06T07:49:16.625196Z"
    }
   },
   "outputs": [],
   "source": [
    "from tkinter import *\n",
    "from PIL import ImageTk, Image \n",
    "from tkinter import messagebox\n",
    "from tkinter import filedialog \n",
    "import cv2 as cv \n",
    "import os  ### "
   ]
  },
  {
   "cell_type": "code",
   "execution_count": 5,
   "id": "f598f949",
   "metadata": {
    "ExecuteTime": {
     "end_time": "2022-05-06T07:50:41.123328Z",
     "start_time": "2022-05-06T07:50:22.134583Z"
    }
   },
   "outputs": [],
   "source": [
    "class Predict:\n",
    "    def __init__(self,root):\n",
    "        self.root = root\n",
    "        self.photo_button = Button(self.root, text = 'Choose File to Apply Linear Regression', command = self.choose_file)\n",
    "        self.accuracy = 'Choose a file first'\n",
    "        self.regression_coefficient = 'Choose a file first'\n",
    "        self.y_intercept = 'Choose a file first'\n",
    "        \n",
    "    \n",
    "    def choose_file(self):\n",
    "        self.root.filename = filedialog.askopenfilename(title = 'Open your file', filetypes = [(\"csv files\",\"*.csv\")]) # to guarantee that the file's type is an image\n",
    "        global file_name\n",
    "        file_name = self.root.filename\n",
    "        self.apply_regression(file_name)\n",
    "        \n",
    "        \n",
    "    \n",
    "    def apply_regression(self,file_name):\n",
    "        \n",
    "        # necessary libraries for linear regression \n",
    "        import pandas as pd # to read the csv file \n",
    "        from sklearn import linear_model # a python built-in library for linear regression\n",
    "        \n",
    "        df = pd.read_csv(file_name)\n",
    "        area_df = df.drop('price', axis = 'columns')\n",
    "        price_df = df.drop('area',axis='columns')\n",
    "        \n",
    "        # create a linear regression object \n",
    "\n",
    "        reg = linear_model.LinearRegression() # an instance of the linear regression model\n",
    "\n",
    "        # reg is the regression model \n",
    "\n",
    "        reg.fit(area_df,price_df) # fits data as (x,y)\n",
    "        self.accuracy = reg.score(area_df,price_df)\n",
    "        self.regression_coefficient = reg.coef_\n",
    "        self.y_intercept = reg.intercept_ \n",
    "        root.geometry(\"800x530\")\n",
    "        Label(root, text = 'The accuracy of our lienar model = ' + str(app.accuracy)).grid(row=2,column=0)\n",
    "        Label(root, text = 'The reg coef of our lienar model = ' + str(app.regression_coefficient[0][0])).grid(row=3,column=0)\n",
    "        Label(root, text = 'The intercep of our lienar model = ' + str(app.y_intercept[0])).grid(row=4,column=0)\n",
    "        \n",
    "        e  = Entry(root, width = 50, bg= 'yellow',fg = \"blue\")\n",
    "        e.grid(row=5,column=0)\n",
    "        e.insert(0, 'Enter your area') # default text\n",
    "        def clicked():\n",
    "            label = Label(root, text = \"The predicted price = \" + str(reg.predict([[int(e.get())]])[0][0]))\n",
    "            label.grid(row=7,column=0)\n",
    "\n",
    "        my_button = Button(root, text = 'Predict price',command = clicked, fg = \"red\", bg = \"blue\") # no () after the function's name, fg, forground color, bg, background color\n",
    "        my_button.grid(row=6, column=0)\n",
    "\n",
    "\n",
    "        \n",
    "\n",
    "        \n",
    "        \n",
    "\n",
    "root = Tk()\n",
    "root.geometry(\"700x430\")\n",
    "root.title('Linear Regression')\n",
    "root.iconbitmap('icon.jpg')\n",
    "app = Predict(root)\n",
    "\n",
    "linear_regression_img = ImageTk.PhotoImage(Image.open(\"/Users/hendy/Desktop/AI/AI_files/opencv-course/Section #3 - Faces/machine_learning.jpeg\"))\n",
    "linear_regression_label = Label( image = linear_regression_img).grid(row=0,column=0,columnspan=3)\n",
    "app.photo_button.grid(row=1,column=1)\n",
    "\n",
    "\n",
    "# try to use matplotlib \n",
    "\n",
    "\n",
    "\n",
    "\n",
    "\n",
    "root.mainloop()\n",
    "        "
   ]
  },
  {
   "cell_type": "code",
   "execution_count": null,
   "id": "21736e86",
   "metadata": {},
   "outputs": [],
   "source": []
  }
 ],
 "metadata": {
  "kernelspec": {
   "display_name": "Python 3",
   "language": "python",
   "name": "python3"
  },
  "language_info": {
   "codemirror_mode": {
    "name": "ipython",
    "version": 3
   },
   "file_extension": ".py",
   "mimetype": "text/x-python",
   "name": "python",
   "nbconvert_exporter": "python",
   "pygments_lexer": "ipython3",
   "version": "3.8.8"
  },
  "toc": {
   "base_numbering": 1,
   "nav_menu": {},
   "number_sections": true,
   "sideBar": true,
   "skip_h1_title": false,
   "title_cell": "Table of Contents",
   "title_sidebar": "Contents",
   "toc_cell": false,
   "toc_position": {},
   "toc_section_display": true,
   "toc_window_display": false
  },
  "varInspector": {
   "cols": {
    "lenName": 16,
    "lenType": 16,
    "lenVar": 40
   },
   "kernels_config": {
    "python": {
     "delete_cmd_postfix": "",
     "delete_cmd_prefix": "del ",
     "library": "var_list.py",
     "varRefreshCmd": "print(var_dic_list())"
    },
    "r": {
     "delete_cmd_postfix": ") ",
     "delete_cmd_prefix": "rm(",
     "library": "var_list.r",
     "varRefreshCmd": "cat(var_dic_list()) "
    }
   },
   "types_to_exclude": [
    "module",
    "function",
    "builtin_function_or_method",
    "instance",
    "_Feature"
   ],
   "window_display": false
  }
 },
 "nbformat": 4,
 "nbformat_minor": 5
}
